{
  "cells": [
    {
      "cell_type": "markdown",
      "metadata": {},
      "source": [
        "# Assignment 5 - Neural Networks - COMP 237"
      ]
    },
    {
      "cell_type": "markdown",
      "metadata": {},
      "source": [
        "## Excercise 1"
      ]
    },
    {
      "cell_type": "markdown",
      "metadata": {},
      "source": [
        "- Single layer feed forward to recognize sum pattern\n",
        "- Train network using 10 data points\n",
        "- 6 input neurons, 1 output neuron"
      ]
    },
    {
      "cell_type": "markdown",
      "metadata": {},
      "source": [
        "Install and Import Libraries"
      ]
    },
    {
      "cell_type": "code",
      "execution_count": null,
      "metadata": {},
      "outputs": [],
      "source": [
        "# Install the following packages:\n",
        "# pip intall numpy\n",
        "# pip install matplotlib\n",
        "# pip install neurolab"
      ]
    },
    {
      "cell_type": "code",
      "execution_count": null,
      "metadata": {},
      "outputs": [],
      "source": [
        "import numpy as np\n",
        "import matplotlib.pyplot as plt\n",
        "import neurolab as nl"
      ]
    },
    {
      "cell_type": "markdown",
      "metadata": {},
      "source": [
        "Set the seed for random number generator"
      ]
    },
    {
      "cell_type": "code",
      "execution_count": null,
      "metadata": {},
      "outputs": [],
      "source": [
        "np.random.seed(1)"
      ]
    },
    {
      "cell_type": "markdown",
      "metadata": {},
      "source": [
        "Create the input and output arrays with generated training data"
      ]
    },
    {
      "cell_type": "code",
      "execution_count": null,
      "metadata": {},
      "outputs": [],
      "source": [
        "input_alpha = np.random.uniform(low=-0.6, high=0.6, size=(10, 2))\n",
        "output_alpha = np.sum(input_alpha, axis=1).reshape(-1, 1)"
      ]
    },
    {
      "cell_type": "markdown",
      "metadata": {},
      "source": [
        "Create single layer neural network"
      ]
    },
    {
      "cell_type": "code",
      "execution_count": null,
      "metadata": {},
      "outputs": [],
      "source": [
        "net = nl.net.newff([[min(input_alpha[:, 0]), max(input_alpha[:, 0])],\n",
        "                    [min(input_alpha[:, 1]), max(input_alpha[:, 1])]], [6, 1])\n",
        "\n",
        "# or\n",
        "# net = nl.net.newff([[-0.6, 0.6], [-0.6, 0.6]], [6, 1])\n",
        "# both do the same thing\n",
        "# The first one is more general and can be used for any input data (reccommended according to ChatGPT)\n",
        "# The second one is specific to the input data. ()"
      ]
    },
    {
      "cell_type": "markdown",
      "metadata": {},
      "source": [
        "Train the neural network"
      ]
    },
    {
      "cell_type": "code",
      "execution_count": null,
      "metadata": {},
      "outputs": [],
      "source": [
        "error = net.train(input_alpha, output_alpha, epochs=100, show=15, goal=0.00001)"
      ]
    },
    {
      "cell_type": "markdown",
      "metadata": {},
      "source": [
        "Test the neural network"
      ]
    },
    {
      "cell_type": "code",
      "execution_count": null,
      "metadata": {},
      "outputs": [],
      "source": [
        "test_values = np.array([[0.1, 0.2]])\n",
        "result = net.sim(test_values)"
      ]
    },
    {
      "cell_type": "code",
      "execution_count": null,
      "metadata": {},
      "outputs": [],
      "source": [
        "print(\"Result #1:\", result)"
      ]
    },
    {
      "cell_type": "markdown",
      "metadata": {},
      "source": [
        "        Excercise 1 is completed ✅"
      ]
    },
    {
      "cell_type": "markdown",
      "metadata": {},
      "source": [
        "## Excercise 2"
      ]
    },
    {
      "cell_type": "markdown",
      "metadata": {},
      "source": [
        "- Multilayer Neural Network to recognize sum pattern\n",
        "- 2 layer feed forward network = 2 hidden neurons (5 neurons, 3 neurons)\n",
        "- 10 data points\n",
        "- Training algorithm: Gradient descent backpropagation"
      ]
    },
    {
      "cell_type": "code",
      "execution_count": null,
      "metadata": {},
      "outputs": [],
      "source": [
        "input_alpha1 = np.random.uniform(-0.6, 0.6, (10, 2))\n",
        "output_alpha1 = np.sum(input_alpha1, axis=1).reshape(-1, 1)"
      ]
    },
    {
      "cell_type": "markdown",
      "metadata": {},
      "source": [
        "Create a two layer neural network"
      ]
    },
    {
      "cell_type": "code",
      "execution_count": null,
      "metadata": {},
      "outputs": [],
      "source": [
        "net1 = nl.net.newff([[-0.6, 0.6], [-0.6, 0.6]], [5, 3, 1])"
      ]
    },
    {
      "cell_type": "markdown",
      "metadata": {},
      "source": [
        "Train the neural network"
      ]
    },
    {
      "cell_type": "code",
      "execution_count": null,
      "metadata": {},
      "outputs": [],
      "source": [
        "net1.trainf = nl.train.train_gd  # Gradient descent backpropagation\n",
        "error_1 = net1.train(input_alpha1, output_alpha1, epochs=1000, show=100, goal=0.00001)"
      ]
    },
    {
      "cell_type": "markdown",
      "metadata": {},
      "source": [
        "Test the neural network"
      ]
    },
    {
      "cell_type": "code",
      "execution_count": null,
      "metadata": {},
      "outputs": [],
      "source": [
        "test_values1 = np.array([[0.1, 0.2]])\n",
        "result_2 = net1.sim(test_values1)\n",
        "print(\"Result #2:\", result_2)"
      ]
    },
    {
      "cell_type": "markdown",
      "metadata": {},
      "source": [
        "        Excercise 2 is completed ✅"
      ]
    },
    {
      "cell_type": "markdown",
      "metadata": {},
      "source": [
        "## Excercise 3"
      ]
    },
    {
      "cell_type": "markdown",
      "metadata": {},
      "source": [
        "- Single layer feed forward to recognize sum pattern with **more data**\n",
        "- Train network using 100 data points\n",
        "- 6 input neurons, 1 output neuron"
      ]
    },
    {
      "cell_type": "markdown",
      "metadata": {},
      "source": [
        "Create input and output arrays with generated training data (100 data points)"
      ]
    },
    {
      "cell_type": "code",
      "execution_count": null,
      "metadata": {},
      "outputs": [],
      "source": [
        "input_alpha2 = np.random.uniform(low=-0.6, high=0.6, size=(100, 2))\n",
        "output_alpha2 = np.sum(input_alpha2, axis=1).reshape(-1, 1)"
      ]
    },
    {
      "cell_type": "markdown",
      "metadata": {},
      "source": [
        "Create single layer neural network"
      ]
    },
    {
      "cell_type": "code",
      "execution_count": null,
      "metadata": {},
      "outputs": [],
      "source": [
        "net2 = nl.net.newff([[min(input_alpha2[:, 0]), max(input_alpha2[:, 0])],\n",
        "                    [min(input_alpha2[:, 1]), max(input_alpha2[:, 1])]], [6, 1])"
      ]
    },
    {
      "cell_type": "markdown",
      "metadata": {},
      "source": [
        "Train the neural network"
      ]
    },
    {
      "cell_type": "code",
      "execution_count": null,
      "metadata": {},
      "outputs": [],
      "source": [
        "error_2 = net2.train(input_alpha2, output_alpha2, epochs=100, show=15, goal=0.00001)"
      ]
    },
    {
      "cell_type": "markdown",
      "metadata": {},
      "source": [
        "Test the neural network"
      ]
    },
    {
      "cell_type": "code",
      "execution_count": null,
      "metadata": {},
      "outputs": [],
      "source": [
        "test_values2 = np.array([[0.1, 0.2]])\n",
        "result_3 = net2.sim(test_values2)"
      ]
    },
    {
      "cell_type": "code",
      "execution_count": null,
      "metadata": {},
      "outputs": [],
      "source": [
        "print(\"Result #3:\", result_3)"
      ]
    },
    {
      "cell_type": "markdown",
      "metadata": {},
      "source": [
        "        Excercise 3 is completed ✅"
      ]
    },
    {
      "cell_type": "markdown",
      "metadata": {},
      "source": [
        "## Excercise 4"
      ]
    },
    {
      "cell_type": "markdown",
      "metadata": {},
      "source": [
        "- Multilayer Neural Network to recognize sum pattern with **more data** (100 data points)\n",
        "- 2 layer feed forward network = 2 hidden neurons (5 neurons, 3 neurons)\n",
        "- Training algorithm: Gradient descent backpropagation"
      ]
    },
    {
      "cell_type": "markdown",
      "metadata": {},
      "source": [
        "Create the input and output arrays with generated training data (100 data points)"
      ]
    },
    {
      "cell_type": "code",
      "execution_count": null,
      "metadata": {},
      "outputs": [],
      "source": [
        "input_alpha3 = np.random.uniform(-0.6, 0.6, (100, 2))\n",
        "output_alpha3 = np.sum(input_alpha3, axis=1).reshape(-1, 1)"
      ]
    },
    {
      "cell_type": "markdown",
      "metadata": {},
      "source": [
        "Crear a two layer neural network"
      ]
    },
    {
      "cell_type": "code",
      "execution_count": null,
      "metadata": {},
      "outputs": [],
      "source": [
        "net3 = nl.net.newff([[-0.6, 0.6], [-0.6, 0.6]], [5, 3, 1])"
      ]
    },
    {
      "cell_type": "markdown",
      "metadata": {},
      "source": [
        "Train the neural network"
      ]
    },
    {
      "cell_type": "code",
      "execution_count": null,
      "metadata": {},
      "outputs": [],
      "source": [
        "net3.trainf = nl.train.train_gd  # Gradient descent backpropagation\n",
        "error_3 = net3.train(input_alpha3, output_alpha3, epochs=1000, show=100, goal=0.00001)"
      ]
    },
    {
      "cell_type": "markdown",
      "metadata": {},
      "source": [
        "Plot the error graph"
      ]
    },
    {
      "cell_type": "code",
      "execution_count": null,
      "metadata": {},
      "outputs": [],
      "source": [
        "plt.plot(error)\n",
        "plt.xlabel(\"Epochs\")\n",
        "plt.ylabel(\"Error\")\n",
        "plt.title(\"Training Error Progress\")\n",
        "plt.grid(True)\n",
        "plt.show()"
      ]
    },
    {
      "cell_type": "markdown",
      "metadata": {},
      "source": [
        "Test the neural network"
      ]
    },
    {
      "cell_type": "code",
      "execution_count": null,
      "metadata": {},
      "outputs": [],
      "source": [
        "test_values3 = np.array([[0.1, 0.2]])\n",
        "result_4 = net3.sim(test_values3)\n",
        "print(\"Result #4:\", result_4)"
      ]
    },
    {
      "cell_type": "markdown",
      "metadata": {},
      "source": [
        "## Excercise 5"
      ]
    },
    {
      "cell_type": "markdown",
      "metadata": {},
      "source": [
        "Create the input and output arrays with generated training data"
      ]
    },
    {
      "cell_type": "markdown",
      "metadata": {},
      "source": [
        "- Multi-layer feed forward to recognize sum pattern with **more data** (100 data points)\n",
        "- Train network using 10 data points\n",
        "- 6 input neurons, 1 output neuron"
      ]
    },
    {
      "cell_type": "markdown",
      "metadata": {},
      "source": []
    },
    {
      "cell_type": "code",
      "execution_count": null,
      "metadata": {},
      "outputs": [],
      "source": [
        "input_alpha_4 = np.random.uniform(low=-0.6, high=0.6, size=(10, 3))\n",
        "output_alpha_4 = np.sum(input_alpha_4, axis=1).reshape(-1, 1)"
      ]
    },
    {
      "cell_type": "markdown",
      "metadata": {},
      "source": [
        " Create a neural network with 3 inputs, 6 neurons in the hidden layer and 1 in the output layer\n"
      ]
    },
    {
      "cell_type": "code",
      "execution_count": null,
      "metadata": {},
      "outputs": [],
      "source": [
        "net4 = nl.net.newff(\n",
        "    [\n",
        "        [min(input_alpha_4[:, 0]), max(input_alpha_4[:, 0])],\n",
        "        [min(input_alpha_4[:, 1]), max(input_alpha_4[:, 1])],\n",
        "        [min(input_alpha_4[:, 2]), max(input_alpha_4[:, 2])]\n",
        "    ],\n",
        "    [6, 1]\n",
        ")\n"
      ]
    },
    {
      "cell_type": "markdown",
      "metadata": {},
      "source": [
        "Test/Simulate the Test Sample [0.2, 0.1, 0.2]"
      ]
    },
    {
      "cell_type": "code",
      "execution_count": null,
      "metadata": {},
      "outputs": [],
      "source": [
        "net4.train(input_alpha_4, output_alpha_4, epochs=100, show=15, goal=0.00001)\n",
        "\n",
        "\n",
        "test_values3 = np.array([[0.2, 0.1, 0.2]])\n",
        "result_5 = net4.sim(test_values3)\n",
        "print(\"Result #5:\", result_5)"
      ]
    },
    {
      "cell_type": "code",
      "execution_count": null,
      "metadata": {},
      "outputs": [],
      "source": [
        "\n",
        "result_6 = net4.sim(test_values3)\n",
        "print(\"Result #6:\", result_6)\n",
        "\n",
        "# Compare Result #5, Result #6, and the actual calculated sum\n",
        "actual_sum = np.sum(test_values3)\n",
        "print(\"Actual Sum:\", actual_sum)\n",
        "\n",
        "# Compare results\n",
        "print(\"Comparison - Result #5 vs. Result #6 vs. Actual Sum:\")\n",
        "print(\"Result #5:\", result_5, \"vs.\", \"Result #6:\", result_6, \"vs.\", \"Actual Sum:\", actual_sum)"
      ]
    }
  ],
  "metadata": {
    "colab": {
      "authorship_tag": "ABX9TyOJeXHu5eWF86GPXY+p3vI+",
      "include_colab_link": true,
      "provenance": []
    },
    "kernelspec": {
      "display_name": "Python 3",
      "name": "python3"
    },
    "language_info": {
      "codemirror_mode": {
        "name": "ipython",
        "version": 3
      },
      "file_extension": ".py",
      "mimetype": "text/x-python",
      "name": "python",
      "nbconvert_exporter": "python",
      "pygments_lexer": "ipython3",
      "version": "3.11.2"
    }
  },
  "nbformat": 4,
  "nbformat_minor": 0
}
