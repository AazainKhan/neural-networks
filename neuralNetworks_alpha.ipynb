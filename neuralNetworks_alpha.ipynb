{
  "cells": [
    {
      "cell_type": "markdown",
      "metadata": {},
      "source": [
        "# Assignment 5 - Neural Networks - COMP 237"
      ]
    },
    {
      "cell_type": "markdown",
      "metadata": {},
      "source": [
        "### Import Libraries"
      ]
    },
    {
      "cell_type": "code",
      "execution_count": 30,
      "metadata": {},
      "outputs": [],
      "source": [
        "# Install the following packages:\n",
        "# pip intall numpy\n",
        "# pip install matplotlib\n",
        "# pip install neurolab"
      ]
    },
    {
      "cell_type": "code",
      "execution_count": 31,
      "metadata": {},
      "outputs": [],
      "source": [
        "import numpy as np\n",
        "import matplotlib.pyplot as plt\n",
        "import neurolab as nl"
      ]
    },
    {
      "cell_type": "code",
      "execution_count": 32,
      "metadata": {},
      "outputs": [],
      "source": [
        "np.random.seed(1)\n"
      ]
    },
    {
      "cell_type": "markdown",
      "metadata": {},
      "source": [
        "### Create the input and output arrays"
      ]
    },
    {
      "cell_type": "code",
      "execution_count": 33,
      "metadata": {},
      "outputs": [],
      "source": [
        "input_alpha = np.random.uniform(low=-0.6, high=0.6, size=(10, 2))"
      ]
    },
    {
      "cell_type": "code",
      "execution_count": 34,
      "metadata": {},
      "outputs": [],
      "source": [
        "output_alpha = np.sum(input_alpha, axis=1).reshape(-1, 1)"
      ]
    },
    {
      "cell_type": "markdown",
      "metadata": {},
      "source": [
        "### Create net with 1 inputs and 6 neurons in a single hidden layer"
      ]
    },
    {
      "cell_type": "code",
      "execution_count": 35,
      "metadata": {},
      "outputs": [],
      "source": [
        "net = nl.net.newff([[min(input_alpha[:, 0]), max(input_alpha[:, 0])],\n",
        "[min(input_alpha[:, 1]), max(input_alpha[:, 1])]], [6, 1])\n"
      ]
    },
    {
      "cell_type": "code",
      "execution_count": 36,
      "metadata": {},
      "outputs": [
        {
          "name": "stdout",
          "output_type": "stream",
          "text": [
            "Epoch: 15; Error: 0.05504985044609992;\n",
            "Epoch: 30; Error: 0.024593664619290564;\n",
            "Epoch: 45; Error: 0.006163642909791991;\n",
            "Epoch: 60; Error: 0.0032412572027295363;\n",
            "Epoch: 75; Error: 0.0018685722917140687;\n",
            "Epoch: 90; Error: 0.0017162924413693622;\n",
            "The maximum number of train epochs is reached\n"
          ]
        },
        {
          "data": {
            "text/plain": [
              "[2.9417932728425598,\n",
              " 0.2541537987090634,\n",
              " 0.25071175059172135,\n",
              " 0.22308573679006888,\n",
              " 0.2025835578330683,\n",
              " 0.19756515231991909,\n",
              " 0.10352320681752436,\n",
              " 0.10170288565734326,\n",
              " 0.09843900933230962,\n",
              " 0.09366650069401725,\n",
              " 0.09116268173081325,\n",
              " 0.08843688246017072,\n",
              " 0.0659978676481114,\n",
              " 0.062212843630874474,\n",
              " 0.05504985044609992,\n",
              " 0.04240790363038105,\n",
              " 0.026248328466272258,\n",
              " 0.02499841307268842,\n",
              " 0.02475302092328616,\n",
              " 0.024609214075005187,\n",
              " 0.02460529572472502,\n",
              " 0.024599635728750346,\n",
              " 0.02459727371501748,\n",
              " 0.02459712488527023,\n",
              " 0.024597048853335825,\n",
              " 0.024596912146436452,\n",
              " 0.02459665854008106,\n",
              " 0.02459618396593407,\n",
              " 0.024595298456126333,\n",
              " 0.024593664619290564,\n",
              " 0.02459070609761657,\n",
              " 0.02458547936768329,\n",
              " 0.024576456269088602,\n",
              " 0.02456093361015657,\n",
              " 0.024533335106556323,\n",
              " 0.02361539496104364,\n",
              " 0.023588156702817154,\n",
              " 0.02248977729756175,\n",
              " 0.0205775204027201,\n",
              " 0.017431409574574015,\n",
              " 0.012850597574665105,\n",
              " 0.010843109581349597,\n",
              " 0.008026349084493033,\n",
              " 0.006715561172573497,\n",
              " 0.006163642909791991,\n",
              " 0.005630677321103089,\n",
              " 0.004923047373374678,\n",
              " 0.004515202871798595,\n",
              " 0.0042345941025334795,\n",
              " 0.004053518342439362,\n",
              " 0.003888808370144318,\n",
              " 0.003843321439408691,\n",
              " 0.003779256271005444,\n",
              " 0.0036805104962098698,\n",
              " 0.0036212008272399976,\n",
              " 0.00354129115747896,\n",
              " 0.0034504276217863536,\n",
              " 0.0033959869773656547,\n",
              " 0.0033230618872384012,\n",
              " 0.0032412572027295363,\n",
              " 0.003148272002619799,\n",
              " 0.0030705237213155146,\n",
              " 0.0030075326596261513,\n",
              " 0.002925612033398097,\n",
              " 0.002885004077740505,\n",
              " 0.002815899961691571,\n",
              " 0.002703072442443731,\n",
              " 0.002621319643087308,\n",
              " 0.0025055476155582137,\n",
              " 0.0023064058465846315,\n",
              " 0.0020320383042242186,\n",
              " 0.001943055785323321,\n",
              " 0.0019044560213812164,\n",
              " 0.0018749917376170843,\n",
              " 0.0018685722917140687,\n",
              " 0.0018681042583906754,\n",
              " 0.001867341988124475,\n",
              " 0.0018659941778797794,\n",
              " 0.0018635369271684508,\n",
              " 0.0018590752887240017,\n",
              " 0.0018512721704633346,\n",
              " 0.001838898323974772,\n",
              " 0.0018197696899487806,\n",
              " 0.0017876019000310473,\n",
              " 0.0017668696166809842,\n",
              " 0.0017531414146718933,\n",
              " 0.0017437843298093727,\n",
              " 0.00173800900341766,\n",
              " 0.0017285769639203868,\n",
              " 0.0017162924413693622,\n",
              " 0.0017107880528024458,\n",
              " 0.0017007621964448083,\n",
              " 0.0016892210922790345,\n",
              " 0.001682133770863434,\n",
              " 0.0016766426370750974,\n",
              " 0.0016702505790120094,\n",
              " 0.0016646847595700293,\n",
              " 0.0016606034101719425,\n",
              " 0.0016540417176895078,\n",
              " 0.0016438236036063255]"
            ]
          },
          "execution_count": 36,
          "metadata": {},
          "output_type": "execute_result"
        }
      ],
      "source": [
        "net.train(input_alpha, output_alpha, epochs=100, show=15, goal=0.00001)"
      ]
    }
  ],
  "metadata": {
    "colab": {
      "authorship_tag": "ABX9TyOJeXHu5eWF86GPXY+p3vI+",
      "include_colab_link": true,
      "provenance": []
    },
    "kernelspec": {
      "display_name": "Python 3",
      "name": "python3"
    },
    "language_info": {
      "codemirror_mode": {
        "name": "ipython",
        "version": 3
      },
      "file_extension": ".py",
      "mimetype": "text/x-python",
      "name": "python",
      "nbconvert_exporter": "python",
      "pygments_lexer": "ipython3",
      "version": "3.11.2"
    }
  },
  "nbformat": 4,
  "nbformat_minor": 0
}
